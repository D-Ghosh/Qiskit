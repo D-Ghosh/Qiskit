{
 "cells": [
  {
   "cell_type": "code",
   "execution_count": 2,
   "metadata": {},
   "outputs": [],
   "source": [
    "from qiskit import QuantumCircuit, transpile, quantum_info\n",
    "from qiskit_aer import AerSimulator\n",
    "from qiskit_ibm_runtime import QiskitRuntimeService\n",
    "from qiskit_ibm_runtime import SamplerV2 as Sampler\n",
    "from qiskit.visualization import plot_histogram\n",
    "import numpy as np"
   ]
  },
  {
   "cell_type": "code",
   "execution_count": 65,
   "metadata": {},
   "outputs": [],
   "source": [
    "# A compact function that takes no. of bits input and outputs a random number between 0 and 2^n-1 using Aer simulator\n",
    "def f(n):\n",
    "    qc = QuantumCircuit(1)\n",
    "    qc.h(0)\n",
    "    qc.measure_all()\n",
    "\n",
    "    backend = AerSimulator()\n",
    "    transpile_qc = transpile(qc, backend=backend, optimization_level=2)\n",
    "\n",
    "    bits = []\n",
    "    sampler = Sampler(backend)\n",
    "    for _ in range(n):\n",
    "        bits.append(list(sampler.run([(transpile_qc,None)]).result()[0].data.meas.get_counts().keys())[0] )\n",
    "\n",
    "    bits = int(\"\".join(bits),2)\n",
    "    return bits\n",
    "\n"
   ]
  },
  {
   "cell_type": "code",
   "execution_count": 28,
   "metadata": {},
   "outputs": [],
   "source": [
    "#Uncomment and put your QXToken below in IBM QPU to run the function\n",
    "#-------------------------------------------------------------------------------------\n",
    "service = QiskitRuntimeService(channel = \"ibm_quantum\", # ibm_cloud\n",
    "                               token = \"9781d2bc283fc5b36aa3d7d3210063bc62f31d57772106fa686b49469564499762dd9118eda929b4e368dd7816d81f201651428dd0e0780d5d93207263e914ce\")\n",
    "backend = service.least_busy(simulator=False, operational=True)\n",
    "#-------------------------------------------------------------------------------------\n",
    "\n",
    "# backend = AerSimulator()"
   ]
  },
  {
   "cell_type": "code",
   "execution_count": 6,
   "metadata": {},
   "outputs": [],
   "source": [
    "def g(n,backend):\n",
    "    qc = QuantumCircuit(n)\n",
    "    for i in range(n):\n",
    "        qc.h(i)\n",
    "    qc.measure_all()\n",
    "    transpile_qc = transpile(qc, backend=backend, optimization_level=2)\n",
    "\n",
    "    sampler = Sampler(backend)\n",
    "\n",
    "    job = sampler.run([(transpile_qc,None,1)])\n",
    "    result_qc = job.result()\n",
    "    I = result_qc[0].data.meas.get_counts().keys()\n",
    "    print(I)\n",
    "    return int(list(I)[0],2)\n"
   ]
  },
  {
   "cell_type": "code",
   "execution_count": 29,
   "metadata": {},
   "outputs": [
    {
     "name": "stdout",
     "output_type": "stream",
     "text": [
      "cw9qv54ggr6g0087tftg\n"
     ]
    }
   ],
   "source": [
    "# Error mitigation through Pauli Twirling\n",
    "\n",
    "n = 2\n",
    "qc = QuantumCircuit(n)\n",
    "for i in range(n):\n",
    "    qc.h(i)\n",
    "qc.measure_all()\n",
    "transpile_qc = transpile(qc, backend=backend, optimization_level=2)\n",
    "\n",
    "sampler = Sampler(backend)\n",
    "\n",
    "job = sampler.run([(transpile_qc,None,400)])\n",
    "print(job.job_id())\n",
    "# result_qc = job.result()\n",
    "# I = result_qc[0].data.meas.get_counts().keys()\n",
    "# int(list(I)[0],2)"
   ]
  },
  {
   "cell_type": "code",
   "execution_count": 30,
   "metadata": {},
   "outputs": [
    {
     "name": "stdout",
     "output_type": "stream",
     "text": [
      "cw9qv9x9ezk000815td0\n"
     ]
    }
   ],
   "source": [
    "options = {\n",
    "    \"twirling\": {\n",
    "        \"enable_gates\": True,\n",
    "        \"enable_measure\": True,\n",
    "        \"strategy\": \"active-circuit\"\n",
    "    }\n",
    "}\n",
    "\n",
    "sampler_twirl = Sampler(backend, options=options)\n",
    "job_twirl = sampler_twirl.run([(transpile_qc,None,400)])\n",
    "print(job_twirl.job_id())\n",
    "# result_qc_twirl = job_twirl.result()\n",
    "# counts_qc_twirl = job_twirl.result()[0].data.meas.get_counts()\n",
    "\n",
    "# plot_histogram([result_qc[0].data.meas.get_counts(), counts_qc_twirl], legend=['Raw', 'Pauli Twirled'])"
   ]
  },
  {
   "cell_type": "code",
   "execution_count": 25,
   "metadata": {},
   "outputs": [
    {
     "data": {
      "image/png": "[encoded data removed]",
      "text/plain": [
       "<Figure size 640x480 with 1 Axes>"
      ]
     },
     "execution_count": 25,
     "metadata": {},
     "output_type": "execute_result"
    }
   ],
   "source": [
    "job_id = 'cw9qv54ggr6g0087tftg'\n",
    "job_twirl_id = 'cw9qv9x9ezk000815td0'\n",
    "\n",
    "job = service.job(job_id)\n",
    "job_twirl = service.job(job_twirl_id)\n",
    "\n",
    "job_result = job.result()\n",
    "job_twirl_result = job_twirl.result()\n",
    "\n",
    "counts = job_result[0].data.meas.get_counts()\n",
    "counts_twirl = job_twirl_result[0].data.meas.get_counts()\n",
    "\n",
    "plot_histogram([counts, counts_twirl], legend=['Raw', 'Pauli Twirled'])"
   ]
  },
  {
   "cell_type": "code",
   "execution_count": null,
   "metadata": {},
   "outputs": [],
   "source": []
  }
 ],
 "metadata": {
  "kernelspec": {
   "display_name": "Python 3 (ipykernel)",
   "language": "python",
   "name": "python3"
  },
  "language_info": {
   "codemirror_mode": {
    "name": "ipython",
    "version": 3
   },
   "file_extension": ".py",
   "mimetype": "text/x-python",
   "name": "python",
   "nbconvert_exporter": "python",
   "pygments_lexer": "ipython3",
   "version": "3.12.5"
  }
 },
 "nbformat": 4,
 "nbformat_minor": 4
}
